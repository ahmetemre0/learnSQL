{
 "cells": [
  {
   "cell_type": "markdown",
   "metadata": {},
   "source": [
    "**HOW TO CONNECT A DATABASE WITH USING A PROGRAMMING LANGUAGE**"
   ]
  },
  {
   "cell_type": "markdown",
   "metadata": {},
   "source": [
    "Install the required packages. \n",
    "For this example, it is only the _pyodbc_ library."
   ]
  },
  {
   "cell_type": "code",
   "execution_count": 41,
   "metadata": {},
   "outputs": [],
   "source": [
    "import os\n",
    "\n",
    "if os.system(\"pip install -r ./python_introduction_requirements.txt\") == 1:\n",
    "    print(\"Failed to install requirements. Check if pip is installed. Check if python_introduction_requirements.txt is in the same directory as this script.\")\n",
    "    exit(1)"
   ]
  },
  {
   "cell_type": "markdown",
   "metadata": {},
   "source": [
    "_pyodbc_ library helps us to connect our database with the help of our server driver. In this particular example, we downloaded the _MySQL ODBC 9.0 Unicode Driver_. If a new version is available or you downloaded a different driver, you can change the name."
   ]
  },
  {
   "cell_type": "markdown",
   "metadata": {},
   "source": [
    "Server I provided below is an example. It has free and limited access. You can also find a different server and connect it with changing the parameters.  "
   ]
  },
  {
   "cell_type": "code",
   "execution_count": 24,
   "metadata": {},
   "outputs": [],
   "source": [
    "import pyodbc\n",
    "\n",
    "def get_connection_string():\n",
    "    return (\n",
    "        \"DRIVER={MySQL ODBC 9.0 Unicode Driver};\"\n",
    "        \"SERVER=jp6.h.filess.io;\"\n",
    "        \"PORT=3307;\"\n",
    "        \"DATABASE=DatabaseLearn_doubleair;\"\n",
    "        \"UID=DatabaseLearn_doubleair;\"\n",
    "        \"PWD=01adecc244539f5097e27de2bf8c5c96d4a9b1c3;\"\n",
    "    )\n",
    "\n",
    "def get_connection():\n",
    "    connection_string = get_connection_string()\n",
    "    return pyodbc.connect(connection_string)"
   ]
  },
  {
   "cell_type": "markdown",
   "metadata": {},
   "source": [
    "I provided two different ways of creating table. There are other ways and different types of limitaions in this operation, but this is not the topic of this tutorial. "
   ]
  },
  {
   "cell_type": "code",
   "execution_count": 26,
   "metadata": {},
   "outputs": [],
   "source": [
    "connection = get_connection()\n",
    "\n",
    "def create_table_simple():\n",
    "    cursor = connection.cursor()\n",
    "    cursor.execute(\"CREATE TABLE users (id INT PRIMARY KEY, name VARCHAR(255), age INT)\")\n",
    "    connection.commit()\n",
    "\n",
    "def create_table_complex():\n",
    "    cursor = connection.cursor()\n",
    "    cursor.execute(\"CREATE TABLE IF NOT EXISTS users (id INT AUTO_INCREMENT PRIMARY KEY, name VARCHAR(255), age INT)\")\n",
    "    connection.commit()\n",
    "\n",
    "def drop_table():\n",
    "    cursor = connection.cursor()\n",
    "    cursor.execute(\"DROP TABLE users\")\n",
    "    connection.commit()\n",
    "\n",
    "drop_table()\n",
    "create_table_simple()\n",
    "drop_table()\n",
    "create_table_complex()\n",
    "\n",
    "connection.close()"
   ]
  },
  {
   "cell_type": "markdown",
   "metadata": {},
   "source": [
    "As you may have seen, SQL queries written using _cursor_. Cursor is a form of console. In this part, we have used this console as a query executer only. "
   ]
  },
  {
   "cell_type": "code",
   "execution_count": 28,
   "metadata": {},
   "outputs": [],
   "source": [
    "connection = get_connection()\n",
    "\n",
    "def insert_dummy_data():\n",
    "    cursor = connection.cursor()\n",
    "    cursor.execute(\"INSERT INTO users (name, age) VALUES ('Alice', 25)\")\n",
    "    cursor.execute(\"INSERT INTO users (name, age) VALUES ('Bob', 30)\")\n",
    "    connection.commit()\n",
    "\n",
    "insert_dummy_data()\n",
    "\n",
    "def insert_data(name, age):\n",
    "    cursor = connection.cursor()\n",
    "    cursor.execute(\"INSERT INTO users (name, age) VALUES (?, ?)\", (name, age))\n",
    "    connection.commit()\n",
    "\n",
    "insert_data(\"Charlie\", 35)\n",
    "\n",
    "connection.close()"
   ]
  },
  {
   "cell_type": "markdown",
   "metadata": {},
   "source": [
    "We have seen cursor's executing functionality before. Now, we are using cursor to get and traverse the output of executed query. "
   ]
  },
  {
   "cell_type": "code",
   "execution_count": 21,
   "metadata": {},
   "outputs": [
    {
     "name": "stdout",
     "output_type": "stream",
     "text": [
      "(1, 'Alice', 25)\n",
      "(2, 'Bob', 30)\n",
      "(1, 'Alice', 25)\n",
      "(1, 'Alice', 25)\n"
     ]
    }
   ],
   "source": [
    "connection = get_connection()\n",
    "def select_data():\n",
    "    cursor = connection.cursor()\n",
    "    cursor.execute(\"SELECT * FROM users\")\n",
    "    for row in cursor.fetchall():\n",
    "        print(row)\n",
    "\n",
    "select_data()\n",
    "\n",
    "def find_user_by_name(name):\n",
    "    cursor = connection.cursor()\n",
    "    cursor.execute(\"SELECT * FROM users WHERE name = ?\", name)\n",
    "    for row in cursor.fetchall():\n",
    "        print(row)\n",
    "\n",
    "find_user_by_name('Alice')\n",
    "\n",
    "connection.close()"
   ]
  },
  {
   "cell_type": "markdown",
   "metadata": {},
   "source": [
    "Output may have only one element. And if there is one element in the cursor output, you don't need to call _fetchall()_ function. _fetchone()_ function is enough for this purpose."
   ]
  },
  {
   "cell_type": "code",
   "execution_count": 29,
   "metadata": {},
   "outputs": [
    {
     "name": "stdout",
     "output_type": "stream",
     "text": [
      "(1, 'Alice', 25)\n"
     ]
    }
   ],
   "source": [
    "connection = get_connection()\n",
    "\n",
    "def find_user_by_id(id):\n",
    "    cursor = connection.cursor()\n",
    "    cursor.execute(\"SELECT * FROM users WHERE id = ?\", id)\n",
    "    print(cursor.fetchone())\n",
    "\n",
    "find_user_by_id(1)\n",
    "\n",
    "connection.close()"
   ]
  },
  {
   "cell_type": "markdown",
   "metadata": {},
   "source": [
    "Of course, there are many other Database Management Systems (**DBMS**). One of them is SQLite.\n",
    "\n",
    "You can use the SQLite files as a local database. SQLite databases are the simplest form of DBMS.\n",
    "\n",
    "SQLite files are used as a local storage in mobile devices mostly. All SMS, Call Log, App History, App Logs etc.\n",
    "\n",
    "As we might expect does not offer us any visual panel, since as we mentioned before SQLite is a simplest form of DBMS.\n",
    "\n",
    "Luckily, there are so many helper extensions and libraries to use and they are usually free.\n",
    "\n",
    "SQLite extension from Visual Studio Code, _www.sqliteonline.com_ , SQLite3 Python Library etc."
   ]
  },
  {
   "cell_type": "markdown",
   "metadata": {},
   "source": []
  },
  {
   "cell_type": "code",
   "execution_count": 48,
   "metadata": {},
   "outputs": [
    {
     "name": "stdout",
     "output_type": "stream",
     "text": [
      "         id                 name               email              username           joined_at          still_member         leaved_at      \n",
      "         1                John Doe        johndoe@mail.com        johndoe       2021-12-06 01:48:32          1                  None        \n",
      "         2                Jane Doe        janedoe@mail.com        janedoe       2021-11-06 00:41:02          1                  None        \n",
      "         3               Alice Doe       alicedoe@mail.com        alicedoe      2021-11-14 12:33:09          1                  None        \n",
      "         4                Bob Doe         bobdoe@mail.com          bobdoe       2021-10-18 20:54:52          1                  None        \n",
      "         5              Charlie Doe     charliedoe@mail.com      charliedoe     2021-07-16 22:18:32          1                  None        \n",
      "         6               David Doe       daviddoe@mail.com        daviddoe      2021-07-27 07:48:42          1                  None        \n",
      "         7                Eve Doe         evedoe@mail.com          evedoe       2021-07-02 07:16:41          1                  None        \n",
      "         8               Frank Doe       frankdoe@mail.com        frankdoe      2021-09-25 12:32:39          1                  None        \n",
      "         9               Grace Doe       gracedoe@mail.com        gracedoe      2021-02-26 12:42:14          1                  None        \n",
      "         10               Hank Doe        hankdoe@mail.com        hankdoe       2021-11-09 00:54:02          1                  None        \n",
      "         11               Ivy Doe         ivydoe@mail.com          ivydoe       2021-03-26 16:05:58          1                  None        \n",
      "         12               Jack Doe        jackdoe@mail.com        jackdoe       2021-04-05 19:21:45          1                  None        \n",
      "         13              Kelly Doe       kellydoe@mail.com        kellydoe      2021-04-15 04:29:43          1                  None        \n",
      "         14               Liam Doe        liamdoe@mail.com        liamdoe       2021-09-20 09:34:56          1                  None        \n",
      "         15               Mia Doe         miadoe@mail.com          miadoe       2021-01-02 15:17:52          1                  None        \n",
      "         16              Nancy Doe       nancydoe@mail.com        nancydoe      2021-08-17 19:51:38          1                  None        \n",
      "         17              Oscar Doe       oscardoe@mail.com        oscardoe      2021-10-23 12:39:55          1                  None        \n",
      "         18              Patty Doe       pattydoe@mail.com        pattydoe      2021-05-21 08:42:40          1                  None        \n",
      "         19              Quincy Doe      quincydoe@mail.com      quincydoe      2021-07-14 21:23:08          1                  None        \n",
      "         20              Randy Doe       randydoe@mail.com        randydoe      2021-08-20 15:15:54          1                  None        \n",
      "         21              Sandy Doe       sandydoe@mail.com        sandydoe      2021-11-18 21:21:22          1                  None        \n",
      "         22              Tommy Doe       tommydoe@mail.com        tommydoe      2021-11-01 07:57:08          1                  None        \n",
      "         23              Ursula Doe      ursuladoe@mail.com      ursuladoe      2021-12-02 05:27:24          1                  None        \n",
      "         24              Vicky Doe       vickydoe@mail.com        vickydoe      2021-08-14 03:06:01          1                  None        \n",
      "         25              Willy Doe       willydoe@mail.com        willydoe      2021-05-26 19:45:59          1                  None        \n",
      "         26              Xander Doe      xanderdoe@mail.com      xanderdoe      2021-11-09 04:47:29          1                  None        \n",
      "         27              Yvonne Doe      yvonnedoe@mail.com      yvonnedoe      2021-09-28 10:53:43          1                  None        \n",
      "         28               Zack Doe        zackdoe@mail.com        zackdoe       2021-01-26 07:58:49          1                  None        \n",
      "         29              Wendy Doe       wendydoe@mail.com        wendydoe      2021-07-01 01:47:59          1                  None        \n",
      "         30              Victor Doe      victordoe@mail.com      victordoe      2021-05-13 02:52:54          1                  None        \n",
      "         31               Tina Doe        tinadoe@mail.com        tinadoe       2021-05-20 05:34:15          0          2021-02-04 14:07:32 \n",
      "         32              Steve Doe       stevedoe@mail.com        stevedoe      2021-02-07 18:01:15          0          2021-03-08 03:01:23 \n",
      "         33               Ruth Doe        ruthdoe@mail.com        ruthdoe       2021-03-11 06:25:42          0          2021-04-12 13:03:14 \n",
      "         34              Quinn Doe       quinndoe@mail.com        quinndoe      2021-03-26 01:57:22          0          2021-01-15 11:16:22 \n",
      "         35               Paul Doe        pauldoe@mail.com        pauldoe       2021-03-03 13:14:13          0          2021-04-24 21:21:54 \n",
      "         36              Olivia Doe      oliviadoe@mail.com      oliviadoe      2021-02-02 02:31:08          0          2021-03-26 10:04:59 \n",
      "         37              Nathan Doe      nathandoe@mail.com      nathandoe      2021-05-08 22:20:00          0          2021-06-21 11:31:14 \n",
      "         38              Molly Doe       mollydoe@mail.com        mollydoe      2021-07-12 02:16:50          0          2021-05-03 13:53:31 \n",
      "         39              Lenny Doe       lennydoe@mail.com        lennydoe      2021-04-14 05:43:03          0          2021-05-17 19:51:43 \n",
      "         40              Kevin Doe       kevindoe@mail.com        kevindoe      2021-10-28 13:32:58          0          2021-10-09 23:38:07 \n",
      "         41              Jenny Doe       jennydoe@mail.com        jennydoe      2021-05-20 23:40:25          0          2021-06-12 14:51:33 \n",
      "         42              Isaac Doe       isaacdoe@mail.com        isaacdoe      2021-12-06 23:24:51          0          2021-03-18 05:25:04 \n",
      "         43              Helen Doe       helendoe@mail.com        helendoe      2021-08-26 08:14:28          0          2021-09-15 01:31:05 \n",
      "         44               Gina Doe        ginadoe@mail.com        ginadoe       2021-06-13 15:38:06          0          2021-07-26 11:50:06 \n",
      "         45              Felix Doe       felixdoe@mail.com        felixdoe      2021-02-04 15:07:06          0          2021-03-04 02:05:55 \n",
      "         46               Ella Doe        elladoe@mail.com        elladoe       2021-07-10 08:13:59          0          2021-08-13 00:55:09 \n",
      "         47              Dylan Doe       dylandoe@mail.com        dylandoe      2021-03-17 14:07:31          0          2021-02-24 16:49:24 \n",
      "         48              Cathy Doe       cathydoe@mail.com        cathydoe      2021-05-09 08:36:57          0          2021-06-28 02:40:20 \n",
      "         49              Bobby Doe       bobbydoe@mail.com        bobbydoe      2021-08-07 04:52:30          0          2021-09-09 06:59:24 \n",
      "         50               Andy Doe        andydoe@mail.com        andydoe       2021-01-13 04:04:07          1                  None        \n",
      "         51               Zoe Doe         zoedoe@mail.com          zoedoe       2021-09-13 02:44:10          1                  None        \n",
      "         52               Yuri Doe        yuridoe@mail.com        yuridoe       2021-02-15 01:21:41          1                  None        \n",
      "         53               Xena Doe        xenadoe@mail.com        xenadoe       2021-04-12 09:22:14          1                  None        \n"
     ]
    }
   ],
   "source": [
    "import sqlite3\n",
    "\n",
    "def get_sqlite_connection():\n",
    "    return sqlite3.connect(\"dummy.db\")\n",
    "\n",
    "connection = get_sqlite_connection()\n",
    "\n",
    "def visualize_header(cursor): \n",
    "    width = 20\n",
    "    for column in cursor.description:\n",
    "        print(f\"{column[0]:^{width}}\", end='')\n",
    "        \n",
    "    print()\n",
    "\n",
    "def visualize_data(cursor):\n",
    "    width = 20\n",
    "    for row in cursor.fetchall():\n",
    "        for cell in row:\n",
    "            if cell is None:\n",
    "                cell = \"None\"\n",
    "            print(f\"{cell:^{width}}\", end='')\n",
    "        print()\n",
    "\n",
    "def retrieve_data():\n",
    "    cursor = connection.cursor()\n",
    "    cursor.execute(\"SELECT * FROM Members\")\n",
    "    visualize_header(cursor)\n",
    "    visualize_data(cursor)\n",
    "\n",
    "retrieve_data()"
   ]
  }
 ],
 "metadata": {
  "kernelspec": {
   "display_name": "Python 3",
   "language": "python",
   "name": "python3"
  },
  "language_info": {
   "codemirror_mode": {
    "name": "ipython",
    "version": 3
   },
   "file_extension": ".py",
   "mimetype": "text/x-python",
   "name": "python",
   "nbconvert_exporter": "python",
   "pygments_lexer": "ipython3",
   "version": "3.12.0"
  }
 },
 "nbformat": 4,
 "nbformat_minor": 2
}
