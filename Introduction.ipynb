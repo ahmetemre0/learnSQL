{
 "cells": [
  {
   "cell_type": "markdown",
   "metadata": {},
   "source": [
    "**HOW TO CONNECT A DATABASE WITH USING A PROGRAMMING LANGUAGE**"
   ]
  },
  {
   "cell_type": "markdown",
   "metadata": {},
   "source": [
    "Install the required packages. \n",
    "For this example, it is only the _pyodbc_ library."
   ]
  },
  {
   "cell_type": "code",
   "execution_count": 6,
   "metadata": {},
   "outputs": [],
   "source": [
    "import os\n",
    "\n",
    "if os.system(\"pip install -r ./python_introduction_requirements.txt\") == 1:\n",
    "    print(\"Failed to install requirements. Check if pip is installed. Check if requirements.txt is in the same directory as this script.\")\n",
    "    exit(1)"
   ]
  },
  {
   "cell_type": "markdown",
   "metadata": {},
   "source": [
    "_pyodbc_ library helps us to connect our database with the help of our server driver. In this particular example, we downloaded the _MySQL ODBC 9.0 Unicode Driver_. If a new version is available or you downloaded a different driver, you can change the name."
   ]
  },
  {
   "cell_type": "markdown",
   "metadata": {},
   "source": [
    "Server I provided below is an example. It has free and limited access. You can also find a different server and connect it with changing the parameters.  "
   ]
  },
  {
   "cell_type": "code",
   "execution_count": 24,
   "metadata": {},
   "outputs": [],
   "source": [
    "import pyodbc\n",
    "\n",
    "def get_connection_string():\n",
    "    return (\n",
    "        \"DRIVER={MySQL ODBC 9.0 Unicode Driver};\"\n",
    "        \"SERVER=jp6.h.filess.io;\"\n",
    "        \"PORT=3307;\"\n",
    "        \"DATABASE=DatabaseLearn_doubleair;\"\n",
    "        \"UID=DatabaseLearn_doubleair;\"\n",
    "        \"PWD=01adecc244539f5097e27de2bf8c5c96d4a9b1c3;\"\n",
    "    )\n",
    "\n",
    "def get_connection():\n",
    "    connection_string = get_connection_string()\n",
    "    return pyodbc.connect(connection_string)"
   ]
  },
  {
   "cell_type": "markdown",
   "metadata": {},
   "source": [
    "I provided two different ways of creating table. There are other ways and different types of limitaions in this operation, but this is not the topic of this tutorial. "
   ]
  },
  {
   "cell_type": "code",
   "execution_count": 26,
   "metadata": {},
   "outputs": [],
   "source": [
    "connection = get_connection()\n",
    "\n",
    "def create_table_simple():\n",
    "    cursor = connection.cursor()\n",
    "    cursor.execute(\"CREATE TABLE users (id INT PRIMARY KEY, name VARCHAR(255), age INT)\")\n",
    "    connection.commit()\n",
    "\n",
    "def create_table_complex():\n",
    "    cursor = connection.cursor()\n",
    "    cursor.execute(\"CREATE TABLE IF NOT EXISTS users (id INT AUTO_INCREMENT PRIMARY KEY, name VARCHAR(255), age INT)\")\n",
    "    connection.commit()\n",
    "\n",
    "def drop_table():\n",
    "    cursor = connection.cursor()\n",
    "    cursor.execute(\"DROP TABLE users\")\n",
    "    connection.commit()\n",
    "\n",
    "drop_table()\n",
    "create_table_simple()\n",
    "drop_table()\n",
    "create_table_complex()\n",
    "\n",
    "connection.close()"
   ]
  },
  {
   "cell_type": "markdown",
   "metadata": {},
   "source": [
    "As you may have seen, SQL queries written using _cursor_. Cursor is a form of console. In this part, we have used this console as a query executer only. "
   ]
  },
  {
   "cell_type": "code",
   "execution_count": 28,
   "metadata": {},
   "outputs": [],
   "source": [
    "connection = get_connection()\n",
    "\n",
    "def insert_dummy_data():\n",
    "    cursor = connection.cursor()\n",
    "    cursor.execute(\"INSERT INTO users (name, age) VALUES ('Alice', 25)\")\n",
    "    cursor.execute(\"INSERT INTO users (name, age) VALUES ('Bob', 30)\")\n",
    "    connection.commit()\n",
    "\n",
    "insert_dummy_data()\n",
    "\n",
    "def insert_data(name, age):\n",
    "    cursor = connection.cursor()\n",
    "    cursor.execute(\"INSERT INTO users (name, age) VALUES (?, ?)\", (name, age))\n",
    "    connection.commit()\n",
    "\n",
    "insert_data(\"Charlie\", 35)\n",
    "\n",
    "connection.close()"
   ]
  },
  {
   "cell_type": "markdown",
   "metadata": {},
   "source": [
    "We have seen cursor's executing functionality before. Now, we are using cursor to get and traverse the output of executed query. "
   ]
  },
  {
   "cell_type": "code",
   "execution_count": 21,
   "metadata": {},
   "outputs": [
    {
     "name": "stdout",
     "output_type": "stream",
     "text": [
      "(1, 'Alice', 25)\n",
      "(2, 'Bob', 30)\n",
      "(1, 'Alice', 25)\n",
      "(1, 'Alice', 25)\n"
     ]
    }
   ],
   "source": [
    "connection = get_connection()\n",
    "def select_data():\n",
    "    cursor = connection.cursor()\n",
    "    cursor.execute(\"SELECT * FROM users\")\n",
    "    for row in cursor.fetchall():\n",
    "        print(row)\n",
    "\n",
    "select_data()\n",
    "\n",
    "def find_user_by_name(name):\n",
    "    cursor = connection.cursor()\n",
    "    cursor.execute(\"SELECT * FROM users WHERE name = ?\", name)\n",
    "    for row in cursor.fetchall():\n",
    "        print(row)\n",
    "\n",
    "find_user_by_name('Alice')\n",
    "\n",
    "connection.close()"
   ]
  },
  {
   "cell_type": "markdown",
   "metadata": {},
   "source": [
    "Output may have only one element. And if there is one element in the cursor output, you don't need to call _fetchall()_ function. _fetchone()_ function is enough for this purpose."
   ]
  },
  {
   "cell_type": "code",
   "execution_count": 29,
   "metadata": {},
   "outputs": [
    {
     "name": "stdout",
     "output_type": "stream",
     "text": [
      "(1, 'Alice', 25)\n"
     ]
    }
   ],
   "source": [
    "connection = get_connection()\n",
    "\n",
    "def find_user_by_id(id):\n",
    "    cursor = connection.cursor()\n",
    "    cursor.execute(\"SELECT * FROM users WHERE id = ?\", id)\n",
    "    print(cursor.fetchone())\n",
    "\n",
    "find_user_by_id(1)\n",
    "\n",
    "connection.close()"
   ]
  }
 ],
 "metadata": {
  "kernelspec": {
   "display_name": "Python 3",
   "language": "python",
   "name": "python3"
  },
  "language_info": {
   "codemirror_mode": {
    "name": "ipython",
    "version": 3
   },
   "file_extension": ".py",
   "mimetype": "text/x-python",
   "name": "python",
   "nbconvert_exporter": "python",
   "pygments_lexer": "ipython3",
   "version": "3.12.0"
  }
 },
 "nbformat": 4,
 "nbformat_minor": 2
}
